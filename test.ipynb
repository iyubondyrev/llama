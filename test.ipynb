{
 "cells": [
  {
   "cell_type": "code",
   "execution_count": 4,
   "metadata": {},
   "outputs": [
    {
     "data": {
      "application/vnd.jupyter.widget-view+json": {
       "model_id": "8b528661e3924707953bd05f664ca84c",
       "version_major": 2,
       "version_minor": 0
      },
      "text/plain": [
       "  0%|          | 0/1000000 [00:00<?, ?it/s]"
      ]
     },
     "metadata": {},
     "output_type": "display_data"
    },
    {
     "name": "stdout",
     "output_type": "stream",
     "text": [
      "Chunks saved to chunks_1024.txt.gz in compressed format.\n"
     ]
    }
   ],
   "source": [
    "import gzip\n",
    "from tqdm.notebook import tqdm\n",
    "import torch\n",
    "from torch.utils.data import Dataset, DataLoader\n",
    "from datasets import load_dataset\n",
    "from transformers import AutoTokenizer\n",
    "\n",
    "dataset = load_dataset(\"ashaba1in/small_openwebtext\", split='train')\n",
    "tokenizer = AutoTokenizer.from_pretrained('mistralai/Mistral-7B-v0.1')\n",
    "\n",
    "def tokenize_function(examples):\n",
    "    return tokenizer(examples['text'], add_special_tokens=True)\n",
    "\n",
    "tokenized_dataset = dataset.map(\n",
    "    tokenize_function,\n",
    "    batched=True,\n",
    "    remove_columns=['text'],\n",
    "    desc=\"Tokenizing\"\n",
    ")\n",
    "\n",
    "def concatenate_and_chunk_to_file(dataset, block_size=1024, output_file=\"chunks_1024.txt.gz\"):\n",
    "    buffer = []\n",
    "    \n",
    "    with gzip.open(output_file, \"wt\") as f:\n",
    "        for item in tqdm(dataset):\n",
    "            buffer.extend(item['input_ids'])\n",
    "            \n",
    "            while len(buffer) >= block_size:\n",
    "                chunk = buffer[:block_size]\n",
    "                f.write(\" \".join(map(str, chunk)) + \"\\n\")\n",
    "                buffer = buffer[block_size:]\n",
    "            break\n",
    "\n",
    "        if buffer:\n",
    "            f.write(\" \".join(map(str, buffer)) + \"\\n\")\n",
    "\n",
    "    print(f\"Chunks saved to {output_file} in compressed format.\")\n",
    "\n",
    "chunked_data = concatenate_and_chunk_to_file(tokenized_dataset)\n"
   ]
  },
  {
   "cell_type": "code",
   "execution_count": 8,
   "metadata": {},
   "outputs": [
    {
     "name": "stdout",
     "output_type": "stream",
     "text": [
      "1024\n",
      "1745\n"
     ]
    }
   ],
   "source": [
    "with gzip.open(\"chunks.txt.gz\", 'rt') as f:\n",
    "    for line in f:\n",
    "        tokens = line.strip().split()\n",
    "        print(len(tokens))\n",
    "        print(tokens[-1])\n",
    "        break"
   ]
  },
  {
   "cell_type": "code",
   "execution_count": 1,
   "metadata": {},
   "outputs": [
    {
     "name": "stdout",
     "output_type": "stream",
     "text": [
      "Total lines:  2000\n"
     ]
    },
    {
     "name": "stderr",
     "output_type": "stream",
     "text": [
      "Reading file and loading it to the memory: 2001it [00:00, 8189.91it/s]                          \n"
     ]
    }
   ],
   "source": [
    "from dataset import TokenizedChunksDataset\n",
    "\n",
    "ds = TokenizedChunksDataset(\"chunks.txt.gz\", lines_to_read=2000)"
   ]
  },
  {
   "cell_type": "code",
   "execution_count": 3,
   "metadata": {},
   "outputs": [
    {
     "data": {
      "text/plain": [
       "{'input_ids': tensor([  369,  1988,  6914,  ..., 28725,   356, 11463]),\n",
       " 'labels': tensor([ 1988,  6914,   611,  ...,   356, 11463, 28723])}"
      ]
     },
     "execution_count": 3,
     "metadata": {},
     "output_type": "execute_result"
    }
   ],
   "source": [
    "ds[1]"
   ]
  },
  {
   "cell_type": "code",
   "execution_count": 22,
   "metadata": {},
   "outputs": [
    {
     "name": "stdout",
     "output_type": "stream",
     "text": [
      "Total lines:  2000\n"
     ]
    },
    {
     "ename": "FileNotFoundError",
     "evalue": "[Errno 2] No such file or directory: 'chunks.txt.gz'",
     "output_type": "error",
     "traceback": [
      "\u001b[0;31m---------------------------------------------------------------------------\u001b[0m",
      "\u001b[0;31mFileNotFoundError\u001b[0m                         Traceback (most recent call last)",
      "Cell \u001b[0;32mIn[22], line 9\u001b[0m\n\u001b[1;32m      5\u001b[0m tokenizer \u001b[38;5;241m=\u001b[39m AutoTokenizer\u001b[38;5;241m.\u001b[39mfrom_pretrained(\u001b[38;5;124m'\u001b[39m\u001b[38;5;124mmistralai/Mistral-7B-v0.1\u001b[39m\u001b[38;5;124m'\u001b[39m)\n\u001b[1;32m      7\u001b[0m \u001b[38;5;28;01mfrom\u001b[39;00m \u001b[38;5;21;01mdataset\u001b[39;00m \u001b[38;5;28;01mimport\u001b[39;00m TokenizedChunksDataset\n\u001b[0;32m----> 9\u001b[0m ds \u001b[38;5;241m=\u001b[39m \u001b[43mTokenizedChunksDataset\u001b[49m\u001b[43m(\u001b[49m\u001b[38;5;124;43m\"\u001b[39;49m\u001b[38;5;124;43mchunks.txt.gz\u001b[39;49m\u001b[38;5;124;43m\"\u001b[39;49m\u001b[43m,\u001b[49m\u001b[43m \u001b[49m\u001b[43mlines_to_read\u001b[49m\u001b[38;5;241;43m=\u001b[39;49m\u001b[38;5;241;43m2000\u001b[39;49m\u001b[43m)\u001b[49m\n\u001b[1;32m     11\u001b[0m params \u001b[38;5;241m=\u001b[39m LLAMAParams(\n\u001b[1;32m     12\u001b[0m     dim\u001b[38;5;241m=\u001b[39m\u001b[38;5;241m64\u001b[39m,\n\u001b[1;32m     13\u001b[0m     vocab_size\u001b[38;5;241m=\u001b[39mtokenizer\u001b[38;5;241m.\u001b[39mvocab_size,\n\u001b[0;32m   (...)\u001b[0m\n\u001b[1;32m     17\u001b[0m     num_heads\u001b[38;5;241m=\u001b[39m\u001b[38;5;241m2\u001b[39m\n\u001b[1;32m     18\u001b[0m )\n\u001b[1;32m     21\u001b[0m model \u001b[38;5;241m=\u001b[39m LLAMA(params)\n",
      "File \u001b[0;32m~/llama/dataset.py:17\u001b[0m, in \u001b[0;36mTokenizedChunksDataset.__init__\u001b[0;34m(self, file_path, seq_len, lines_to_read)\u001b[0m\n\u001b[1;32m     14\u001b[0m total_lines \u001b[38;5;241m=\u001b[39m total_lines \u001b[38;5;28;01mif\u001b[39;00m lines_to_read \u001b[38;5;129;01mis\u001b[39;00m \u001b[38;5;28;01mNone\u001b[39;00m \u001b[38;5;28;01melse\u001b[39;00m \u001b[38;5;28mmin\u001b[39m(total_lines, lines_to_read)\n\u001b[1;32m     15\u001b[0m \u001b[38;5;28mprint\u001b[39m(\u001b[38;5;124m\"\u001b[39m\u001b[38;5;124mTotal lines: \u001b[39m\u001b[38;5;124m\"\u001b[39m, total_lines)\n\u001b[0;32m---> 17\u001b[0m \u001b[38;5;28;01mwith\u001b[39;00m \u001b[43mgzip\u001b[49m\u001b[38;5;241;43m.\u001b[39;49m\u001b[43mopen\u001b[49m\u001b[43m(\u001b[49m\u001b[38;5;28;43mself\u001b[39;49m\u001b[38;5;241;43m.\u001b[39;49m\u001b[43mfile_path\u001b[49m\u001b[43m,\u001b[49m\u001b[43m \u001b[49m\u001b[38;5;124;43m'\u001b[39;49m\u001b[38;5;124;43mrt\u001b[39;49m\u001b[38;5;124;43m'\u001b[39;49m\u001b[43m)\u001b[49m \u001b[38;5;28;01mas\u001b[39;00m f:\n\u001b[1;32m     18\u001b[0m     i \u001b[38;5;241m=\u001b[39m \u001b[38;5;241m0\u001b[39m\n\u001b[1;32m     19\u001b[0m     \u001b[38;5;28;01mfor\u001b[39;00m line \u001b[38;5;129;01min\u001b[39;00m tqdm(f, total\u001b[38;5;241m=\u001b[39mtotal_lines, desc\u001b[38;5;241m=\u001b[39m\u001b[38;5;124m\"\u001b[39m\u001b[38;5;124mReading file and loading it to the memory\u001b[39m\u001b[38;5;124m\"\u001b[39m):\n",
      "File \u001b[0;32m~/.pyenv/versions/3.12.5/lib/python3.12/gzip.py:61\u001b[0m, in \u001b[0;36mopen\u001b[0;34m(filename, mode, compresslevel, encoding, errors, newline)\u001b[0m\n\u001b[1;32m     59\u001b[0m gz_mode \u001b[38;5;241m=\u001b[39m mode\u001b[38;5;241m.\u001b[39mreplace(\u001b[38;5;124m\"\u001b[39m\u001b[38;5;124mt\u001b[39m\u001b[38;5;124m\"\u001b[39m, \u001b[38;5;124m\"\u001b[39m\u001b[38;5;124m\"\u001b[39m)\n\u001b[1;32m     60\u001b[0m \u001b[38;5;28;01mif\u001b[39;00m \u001b[38;5;28misinstance\u001b[39m(filename, (\u001b[38;5;28mstr\u001b[39m, \u001b[38;5;28mbytes\u001b[39m, os\u001b[38;5;241m.\u001b[39mPathLike)):\n\u001b[0;32m---> 61\u001b[0m     binary_file \u001b[38;5;241m=\u001b[39m \u001b[43mGzipFile\u001b[49m\u001b[43m(\u001b[49m\u001b[43mfilename\u001b[49m\u001b[43m,\u001b[49m\u001b[43m \u001b[49m\u001b[43mgz_mode\u001b[49m\u001b[43m,\u001b[49m\u001b[43m \u001b[49m\u001b[43mcompresslevel\u001b[49m\u001b[43m)\u001b[49m\n\u001b[1;32m     62\u001b[0m \u001b[38;5;28;01melif\u001b[39;00m \u001b[38;5;28mhasattr\u001b[39m(filename, \u001b[38;5;124m\"\u001b[39m\u001b[38;5;124mread\u001b[39m\u001b[38;5;124m\"\u001b[39m) \u001b[38;5;129;01mor\u001b[39;00m \u001b[38;5;28mhasattr\u001b[39m(filename, \u001b[38;5;124m\"\u001b[39m\u001b[38;5;124mwrite\u001b[39m\u001b[38;5;124m\"\u001b[39m):\n\u001b[1;32m     63\u001b[0m     binary_file \u001b[38;5;241m=\u001b[39m GzipFile(\u001b[38;5;28;01mNone\u001b[39;00m, gz_mode, compresslevel, filename)\n",
      "File \u001b[0;32m~/.pyenv/versions/3.12.5/lib/python3.12/gzip.py:192\u001b[0m, in \u001b[0;36mGzipFile.__init__\u001b[0;34m(self, filename, mode, compresslevel, fileobj, mtime)\u001b[0m\n\u001b[1;32m    190\u001b[0m     mode \u001b[38;5;241m+\u001b[39m\u001b[38;5;241m=\u001b[39m \u001b[38;5;124m'\u001b[39m\u001b[38;5;124mb\u001b[39m\u001b[38;5;124m'\u001b[39m\n\u001b[1;32m    191\u001b[0m \u001b[38;5;28;01mif\u001b[39;00m fileobj \u001b[38;5;129;01mis\u001b[39;00m \u001b[38;5;28;01mNone\u001b[39;00m:\n\u001b[0;32m--> 192\u001b[0m     fileobj \u001b[38;5;241m=\u001b[39m \u001b[38;5;28mself\u001b[39m\u001b[38;5;241m.\u001b[39mmyfileobj \u001b[38;5;241m=\u001b[39m \u001b[43mbuiltins\u001b[49m\u001b[38;5;241;43m.\u001b[39;49m\u001b[43mopen\u001b[49m\u001b[43m(\u001b[49m\u001b[43mfilename\u001b[49m\u001b[43m,\u001b[49m\u001b[43m \u001b[49m\u001b[43mmode\u001b[49m\u001b[43m \u001b[49m\u001b[38;5;129;43;01mor\u001b[39;49;00m\u001b[43m \u001b[49m\u001b[38;5;124;43m'\u001b[39;49m\u001b[38;5;124;43mrb\u001b[39;49m\u001b[38;5;124;43m'\u001b[39;49m\u001b[43m)\u001b[49m\n\u001b[1;32m    193\u001b[0m \u001b[38;5;28;01mif\u001b[39;00m filename \u001b[38;5;129;01mis\u001b[39;00m \u001b[38;5;28;01mNone\u001b[39;00m:\n\u001b[1;32m    194\u001b[0m     filename \u001b[38;5;241m=\u001b[39m \u001b[38;5;28mgetattr\u001b[39m(fileobj, \u001b[38;5;124m'\u001b[39m\u001b[38;5;124mname\u001b[39m\u001b[38;5;124m'\u001b[39m, \u001b[38;5;124m'\u001b[39m\u001b[38;5;124m'\u001b[39m)\n",
      "\u001b[0;31mFileNotFoundError\u001b[0m: [Errno 2] No such file or directory: 'chunks.txt.gz'"
     ]
    }
   ],
   "source": [
    "from llama import LLAMA\n",
    "from model_params import LLAMAParams\n",
    "from transformers import AutoTokenizer\n",
    "\n",
    "tokenizer = AutoTokenizer.from_pretrained('mistralai/Mistral-7B-v0.1')\n",
    "\n",
    "from dataset import TokenizedChunksDataset\n",
    "\n",
    "ds = TokenizedChunksDataset(\"chunks.txt.gz\", lines_to_read=2000)\n",
    "\n",
    "params = LLAMAParams(\n",
    "    dim=64,\n",
    "    vocab_size=tokenizer.vocab_size,\n",
    "    hidden_dim=128,\n",
    "    max_seq_len=1024,\n",
    "    num_layers=2,\n",
    "    num_heads=2\n",
    ")\n",
    "\n",
    "\n",
    "model = LLAMA(params)"
   ]
  },
  {
   "cell_type": "code",
   "execution_count": 11,
   "metadata": {},
   "outputs": [],
   "source": [
    "from torch.utils.data import DataLoader\n",
    "\n",
    "dataloader = DataLoader(ds, batch_size=8, shuffle=True)\n"
   ]
  },
  {
   "cell_type": "code",
   "execution_count": 17,
   "metadata": {},
   "outputs": [
    {
     "data": {
      "text/plain": [
       "torch.Size([8, 1023])"
      ]
     },
     "execution_count": 17,
     "metadata": {},
     "output_type": "execute_result"
    }
   ],
   "source": [
    "dataloader.__iter__().__next__()[\"input_ids\"].shape"
   ]
  },
  {
   "cell_type": "code",
   "execution_count": 23,
   "metadata": {},
   "outputs": [
    {
     "data": {
      "text/plain": [
       "torch.Size([1023])"
      ]
     },
     "execution_count": 23,
     "metadata": {},
     "output_type": "execute_result"
    }
   ],
   "source": [
    "ds[5][\"input_ids\"].shape"
   ]
  },
  {
   "cell_type": "code",
   "execution_count": 1,
   "metadata": {},
   "outputs": [
    {
     "name": "stderr",
     "output_type": "stream",
     "text": [
      "/Users/ivanbondyrev/llama/.venv/lib/python3.12/site-packages/transformers/training_args.py:1568: FutureWarning: `evaluation_strategy` is deprecated and will be removed in version 4.46 of 🤗 Transformers. Use `eval_strategy` instead\n",
      "  warnings.warn(\n"
     ]
    }
   ],
   "source": [
    "from transformers import TrainingArguments\n",
    "\n",
    "training_args = TrainingArguments(\n",
    "    output_dir=\"./llama_model\",\n",
    "    overwrite_output_dir=True,\n",
    "    num_train_epochs=3,\n",
    "    per_device_train_batch_size=8,\n",
    "    per_device_eval_batch_size=8,\n",
    "    save_steps=500,\n",
    "    save_total_limit=2,\n",
    "    evaluation_strategy=\"no\",\n",
    "    logging_dir='./logs',\n",
    "    logging_steps=100,\n",
    "    learning_rate=1e-4\n",
    ")"
   ]
  },
  {
   "cell_type": "code",
   "execution_count": 2,
   "metadata": {},
   "outputs": [
    {
     "name": "stderr",
     "output_type": "stream",
     "text": [
      "2001it [00:00, 8184.19it/s]\n"
     ]
    },
    {
     "data": {
      "application/vnd.jupyter.widget-view+json": {
       "model_id": "f6dbf353d0c64508826b4c1d16640393",
       "version_major": 2,
       "version_minor": 0
      },
      "text/plain": [
       "  0%|          | 0/753 [00:00<?, ?it/s]"
      ]
     },
     "metadata": {},
     "output_type": "display_data"
    },
    {
     "name": "stdout",
     "output_type": "stream",
     "text": [
      "{'loss': 10.4432, 'grad_norm': 0.26457127928733826, 'learning_rate': 8.671978751660027e-05, 'epoch': 0.4}\n",
      "{'loss': 9.9726, 'grad_norm': 0.6160191893577576, 'learning_rate': 7.343957503320054e-05, 'epoch': 0.8}\n",
      "{'loss': 9.1312, 'grad_norm': 0.6620867848396301, 'learning_rate': 6.01593625498008e-05, 'epoch': 1.2}\n",
      "{'loss': 8.642, 'grad_norm': 0.6315849423408508, 'learning_rate': 4.687915006640107e-05, 'epoch': 1.59}\n",
      "{'loss': 8.3403, 'grad_norm': 0.7130919098854065, 'learning_rate': 3.359893758300133e-05, 'epoch': 1.99}\n",
      "{'loss': 8.1643, 'grad_norm': 0.6354120373725891, 'learning_rate': 2.0318725099601595e-05, 'epoch': 2.39}\n",
      "{'loss': 8.0656, 'grad_norm': 0.619381308555603, 'learning_rate': 7.03851261620186e-06, 'epoch': 2.79}\n",
      "{'train_runtime': 180.7869, 'train_samples_per_second': 33.205, 'train_steps_per_second': 4.165, 'train_loss': 8.90007697886838, 'epoch': 3.0}\n"
     ]
    },
    {
     "data": {
      "text/plain": [
       "TrainOutput(global_step=753, training_loss=8.90007697886838, metrics={'train_runtime': 180.7869, 'train_samples_per_second': 33.205, 'train_steps_per_second': 4.165, 'total_flos': 0.0, 'train_loss': 8.90007697886838, 'epoch': 3.0})"
      ]
     },
     "execution_count": 2,
     "metadata": {},
     "output_type": "execute_result"
    }
   ],
   "source": [
    "from transformers import Trainer\n",
    "\n",
    "from llama import LLAMA\n",
    "from model_params import LLAMAParams\n",
    "from transformers import AutoTokenizer\n",
    "\n",
    "tokenizer = AutoTokenizer.from_pretrained('mistralai/Mistral-7B-v0.1')\n",
    "\n",
    "from dataset import TokenizedChunksDataset\n",
    "\n",
    "ds = TokenizedChunksDataset(\"chunks.txt.gz\", lines_to_read=2000)\n",
    "\n",
    "params = LLAMAParams(\n",
    "    dim=64,\n",
    "    vocab_size=tokenizer.vocab_size,\n",
    "    hidden_dim=128,\n",
    "    max_seq_len=1024,\n",
    "    num_layers=2,\n",
    "    num_heads=2\n",
    ")\n",
    "\n",
    "\n",
    "model = LLAMA(params).to(params.device)\n",
    "\n",
    "trainer = Trainer(\n",
    "    model=model,\n",
    "    args=training_args,\n",
    "    train_dataset=ds,\n",
    ")\n",
    "\n",
    "# Start training\n",
    "trainer.train()"
   ]
  },
  {
   "cell_type": "code",
   "execution_count": 3,
   "metadata": {},
   "outputs": [
    {
     "data": {
      "text/plain": [
       "32000"
      ]
     },
     "execution_count": 3,
     "metadata": {},
     "output_type": "execute_result"
    }
   ],
   "source": [
    "tokenizer.vocab_size"
   ]
  },
  {
   "cell_type": "code",
   "execution_count": null,
   "metadata": {},
   "outputs": [],
   "source": [
    "import numpy as np\n",
    "from tqdm.notebook import tqdm\n",
    "\n",
    "def convert_txt_to_bin(txt_file, bin_file, seq_len=1024):\n",
    "    with open(txt_file, 'r') as txt, open(bin_file, 'wb') as bin_out:\n",
    "        for line in tqdm(txt, total=1209636):\n",
    "            tokens = list(map(int, line.strip().split()))\n",
    "            if len(tokens) != seq_len:\n",
    "                continue\n",
    "            \n",
    "            token_array = np.array(tokens, dtype=np.int32)\n",
    "            \n",
    "            bin_out.write(token_array.tobytes())\n",
    "\n",
    "    print(f\"Binary conversion complete. Data saved to {bin_file}\")"
   ]
  },
  {
   "cell_type": "code",
   "execution_count": 10,
   "metadata": {},
   "outputs": [
    {
     "data": {
      "application/vnd.jupyter.widget-view+json": {
       "model_id": "2c729a3987eb4beca2c2291a87db503d",
       "version_major": 2,
       "version_minor": 0
      },
      "text/plain": [
       "  0%|          | 0/1209636 [00:00<?, ?it/s]"
      ]
     },
     "metadata": {},
     "output_type": "display_data"
    },
    {
     "name": "stdout",
     "output_type": "stream",
     "text": [
      "Binary conversion complete. Data saved to chunks.bin\n"
     ]
    }
   ],
   "source": [
    "convert_txt_to_bin(\"chunks.txt\", \"chunks.bin\")"
   ]
  },
  {
   "cell_type": "code",
   "execution_count": 16,
   "metadata": {},
   "outputs": [],
   "source": [
    "from torch.utils.data import Dataset\n",
    "import os\n",
    "import torch\n",
    "\n",
    "class BinaryTokenDataset(Dataset):\n",
    "    def __init__(self, bin_file, seq_len=1024):\n",
    "        self.bin_file = bin_file\n",
    "        self.seq_len = seq_len\n",
    "        self.record_size = seq_len * 4  # Each int32 token takes 4 bytes\n",
    "        \n",
    "        # Determine the total number of records in the file\n",
    "        self.total_records = os.path.getsize(bin_file) // self.record_size\n",
    "        print(f\"Total sequences available: {self.total_records}\")\n",
    "\n",
    "    def __len__(self):\n",
    "        return self.total_records\n",
    "\n",
    "    def __getitem__(self, idx):\n",
    "        if idx >= self.total_records:\n",
    "            raise IndexError(\"Index out of range\")\n",
    "\n",
    "        # Seek to the start of the record in the binary file\n",
    "        with open(self.bin_file, 'rb') as f:\n",
    "            f.seek(idx * self.record_size)\n",
    "            # Read the sequence as binary data and convert it to an int32 numpy array\n",
    "            data = np.frombuffer(f.read(self.record_size), dtype=np.int32)\n",
    "            \n",
    "            # Convert to torch tensor\n",
    "            input_ids = torch.tensor(data, dtype=torch.long)\n",
    "            return {'input_ids': input_ids[:-1], 'labels': input_ids[1:]}"
   ]
  },
  {
   "cell_type": "code",
   "execution_count": 17,
   "metadata": {},
   "outputs": [
    {
     "name": "stdout",
     "output_type": "stream",
     "text": [
      "Total sequences available: 1209635\n"
     ]
    }
   ],
   "source": [
    "ds_bin = BinaryTokenDataset(bin_file=\"chunks.bin\")"
   ]
  },
  {
   "cell_type": "code",
   "execution_count": 18,
   "metadata": {},
   "outputs": [
    {
     "data": {
      "text/plain": [
       "{'input_ids': tensor([    1,  4194, 28733,  ...,   661,   403,   396]),\n",
       " 'labels': tensor([ 4194, 28733,   581,  ...,   403,   396,  1745])}"
      ]
     },
     "execution_count": 18,
     "metadata": {},
     "output_type": "execute_result"
    }
   ],
   "source": [
    "ds_bin[0]"
   ]
  },
  {
   "cell_type": "code",
   "execution_count": 21,
   "metadata": {},
   "outputs": [
    {
     "data": {
      "text/plain": [
       "{'input_ids': tensor([16049,   794, 28725,  ..., 28723,  1015,   395]),\n",
       " 'labels': tensor([  794, 28725,  8160,  ...,  1015,   395,   272])}"
      ]
     },
     "execution_count": 21,
     "metadata": {},
     "output_type": "execute_result"
    }
   ],
   "source": [
    "ds_bin[6]"
   ]
  },
  {
   "cell_type": "code",
   "execution_count": null,
   "metadata": {},
   "outputs": [],
   "source": []
  }
 ],
 "metadata": {
  "kernelspec": {
   "display_name": ".venv",
   "language": "python",
   "name": "python3"
  },
  "language_info": {
   "codemirror_mode": {
    "name": "ipython",
    "version": 3
   },
   "file_extension": ".py",
   "mimetype": "text/x-python",
   "name": "python",
   "nbconvert_exporter": "python",
   "pygments_lexer": "ipython3",
   "version": "3.12.5"
  }
 },
 "nbformat": 4,
 "nbformat_minor": 2
}
